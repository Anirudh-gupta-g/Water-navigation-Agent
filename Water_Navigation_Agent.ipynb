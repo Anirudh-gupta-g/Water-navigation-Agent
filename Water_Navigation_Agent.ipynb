{
  "cells": [
    {
      "cell_type": "markdown",
      "metadata": {
        "id": "view-in-github",
        "colab_type": "text"
      },
      "source": [
        "<a href=\"https://colab.research.google.com/github/Anirudh-gupta-g/Water-navigation-Agent/blob/main/Water_Navigation_Agent.ipynb\" target=\"_parent\"><img src=\"https://colab.research.google.com/assets/colab-badge.svg\" alt=\"Open In Colab\"/></a>"
      ]
    },
    {
      "cell_type": "markdown",
      "metadata": {
        "id": "Fxb1aE9zF7sK"
      },
      "source": [
        "## Problem solving by Uninformed & Informed Search"
      ]
    },
    {
      "cell_type": "markdown",
      "metadata": {
        "id": "IL0QDMy3F7sL"
      },
      "source": [
        "### 1.\tDefine the environment in the following block"
      ]
    },
    {
      "cell_type": "markdown",
      "metadata": {
        "id": "wdaJxEZtoqou"
      },
      "source": [
        "Defining PEAS of the Agent\n",
        "\n",
        "1.Performance Measure:\n",
        "Minimize the total distance or time taken to reach the sea from a designated start location.  \n",
        "Maximize the efficiency of inspecting and maintaining the entire network by visiting every location at least once with the least redundancy.  \n",
        "Minimize the number of gates opened to the sea to prevent flooding.\n",
        "\n",
        "2.Environment:\n",
        "The water channel network in Chennai, represented as a graph with locations (nodes) and channels (edges).\n",
        "Channels are unidirectional, allowing water flow in one direction.\n",
        "Each location has gates that can be open or closed to regulate water flow.\n",
        "The environment includes various start locations and a single goal location (the sea).\n",
        "\n",
        "3.Actuators:\n",
        "Gate open/close mechanism at each location to regulate water flow.\n",
        "The agent's decision-making process to choose the next location to move towards the sea or to inspect and maintain the network.\n",
        "\n",
        "4.Sensors:\n",
        "Sensors to detect the current location of the agent within the network.\n",
        "Water level sensors at each location to assess flood risk.\n",
        "Sensors to detect the status (open or closed) of gates at each location.\n"
      ]
    },
    {
      "cell_type": "markdown",
      "metadata": {
        "id": "XJ3cHp1IF7sM"
      },
      "source": [
        "Design the agent as PSA Agent(Problem Solving Agent)\n",
        "\n",
        "1.Goal Formulation: The agent's goal is to find the shortest and most efficient path from a given start location to the sea, ensuring flood prevention by regulating gate operations and to plan a route that covers the entire network for inspection and maintenance purposes.\n",
        "\n",
        "2.Problem Formulation: The problem can be formulated as a pathfinding problem in a directed graph, where the agent must decide at each step which channel to take next based on the current state of the environment, the performance measure, and the ultimate goal of reaching the sea or covering the entire network.\n",
        "\n",
        "3.Search and Planning: The agent can use informed search algorithms like A* for finding the shortest path to the sea and local search algorithms like Random restart hill climbing for planning an efficient inspection and maintenance route.\n",
        "\n",
        "4.Execution: The agent executes the chosen path by opening and closing gates as necessary to navigate through the network towards the sea or to cover the entire network for inspection\n"
      ]
    },
    {
      "cell_type": "code",
      "execution_count": null,
      "metadata": {
        "id": "osp61RsLF7sN"
      },
      "outputs": [],
      "source": [
        "#Setting Initial State\n",
        "def set_initial_state(node):\n",
        "    initial_state = node\n",
        "    return initial_state"
      ]
    },
    {
      "cell_type": "code",
      "execution_count": null,
      "metadata": {
        "id": "XODwoWZ0F7sO"
      },
      "outputs": [],
      "source": [
        "#Code Block : Setting the transistion Matrix or Adjacency list\n",
        "class PriorityQueue:\n",
        "    def __init__(self):\n",
        "        self.queue = []\n",
        "\n",
        "    def put(self, item):\n",
        "        self.queue.append(item)\n",
        "        self.queue.sort()\n",
        "\n",
        "    def get(self):\n",
        "        return self.queue.pop(0)\n",
        "\n",
        "\n",
        "class Graph:\n",
        "    def __init__(self):\n",
        "        self.edges = {}\n",
        "\n",
        "    def add_weighted_edges(self, weighted_edges):\n",
        "        for edge in weighted_edges:\n",
        "            self.add_weighted_edge(edge)\n",
        "\n",
        "    def add_weighted_edge(self, edge):\n",
        "        start, end, weight = edge\n",
        "        if start not in self.edges:\n",
        "            self.edges[start] = []\n",
        "        self.edges[start].append((end, weight))\n",
        "\n",
        "    def nodes(self):\n",
        "        return list(self.edges.keys())\n",
        "\n",
        "    def neighbors(self, node):\n",
        "        return [neighbor[0] for neighbor in self.edges.get(node, [])]\n",
        "\n",
        "    def get_edge_weight(self, start, end):\n",
        "        for neighbor, weight in self.edges.get(start, []):\n",
        "            if neighbor == end:\n",
        "                return weight\n",
        "        return float('inf')\n",
        "\n",
        "\n",
        "def degree_heuristic(node, goal, graph):\n",
        "    return len(graph.neighbors(node))\n",
        "\n",
        "graph = Graph()\n",
        "graph.add_weighted_edges([('A', 'B', 2), ('A', 'C', 1), ('B', 'F', 1), ('B', 'G', 1), ('C', 'D', 2),\n",
        "                          ('C', 'E', 2), ('D', 'E', 1), ('D', 'K', 1), ('E', 'F', 3), ('E', 'S', 2),\n",
        "                          ('F', 'G', 1), ('G', 'H', 1), ('H', 'S', 1), ('I', 'A', 2), ('J', 'C', 1),\n",
        "                          ('K', 'E', 1)])"
      ]
    },
    {
      "cell_type": "code",
      "execution_count": null,
      "metadata": {
        "id": "ro24Gaj7F7sO"
      },
      "outputs": [],
      "source": [
        "#Code Block :function to design the Transition Model/Successor function.\n",
        "def successor_function(graph, node):\n",
        "    return graph.neighbors(node)"
      ]
    },
    {
      "cell_type": "code",
      "execution_count": null,
      "metadata": {
        "id": "HIVPhrRWF7sO"
      },
      "outputs": [],
      "source": [
        "#Code block :fucntion to handle goal test (Must handle dynamic inputs).\n",
        "def is_goal_state(node, goal):\n",
        "    return node == goal"
      ]
    },
    {
      "cell_type": "markdown",
      "metadata": {
        "id": "Z4QwDeX5F7sO"
      },
      "source": [
        "### A* Algorithm"
      ]
    },
    {
      "cell_type": "code",
      "execution_count": null,
      "metadata": {
        "id": "zD_EPCHWF7sO"
      },
      "outputs": [],
      "source": [
        "#Code Block : Function for A* algorithm implementation\n",
        "import time\n",
        "import sys\n",
        "\n",
        "def a_star(graph, start, goal):\n",
        "\n",
        "    start_time = time.time()\n",
        "\n",
        "    open_set = PriorityQueue()\n",
        "    open_set.put((0, start))\n",
        "    came_from = {}\n",
        "    path_cost = {node: float('inf') for node in graph.nodes()}\n",
        "    path_cost[start] = 0\n",
        "    path_cost[goal] = float('inf')\n",
        "    fitness_score = {node: float('inf') for node in graph.nodes()}\n",
        "    fitness_score[start] = degree_heuristic(start, goal, graph)\n",
        "\n",
        "    space_complexity = sys.getsizeof(open_set) + sys.getsizeof(came_from) + sys.getsizeof(path_cost) + sys.getsizeof(fitness_score)\n",
        "    iterations = 0\n",
        "\n",
        "    while open_set.queue:\n",
        "        current = open_set.get()[1]\n",
        "        iterations += 1\n",
        "\n",
        "        if is_goal_state(current, goal):\n",
        "            path = []\n",
        "            total_cost = 0\n",
        "            while current in came_from:\n",
        "                path.append(current)\n",
        "                total_cost += graph.get_edge_weight(came_from[current], current)\n",
        "                current = came_from[current]\n",
        "            path.append(start)\n",
        "            space_complexity += sys.getsizeof(path)\n",
        "\n",
        "            elapsed_time = time.time() - start_time\n",
        "\n",
        "            return path[::-1], total_cost, elapsed_time , iterations, space_complexity\n",
        "\n",
        "        for neighbor in successor_function(graph, current):\n",
        "            tentative_path_cost = path_cost[current] + graph.get_edge_weight(current, neighbor)\n",
        "            if tentative_path_cost < path_cost[neighbor]:\n",
        "                came_from[neighbor] = current\n",
        "                path_cost[neighbor] = tentative_path_cost\n",
        "                fitness_score[neighbor] = path_cost[neighbor] + degree_heuristic(neighbor, goal, graph)\n",
        "                open_set.put((fitness_score[neighbor], neighbor))\n",
        "\n",
        "    elapsed_time = time.time()- start_time\n",
        "\n",
        "    return None, 0, elapsed_time, iterations, space_complexity\n"
      ]
    },
    {
      "cell_type": "markdown",
      "metadata": {
        "id": "KnbdDl6HF7sO"
      },
      "source": [
        "### Random restart hill climbing Algorithm"
      ]
    },
    {
      "cell_type": "code",
      "execution_count": null,
      "metadata": {
        "id": "3HYh7-eJF7sP"
      },
      "outputs": [],
      "source": [
        "#Code Block : Function for random restart hill climbing algorithm implementation\n",
        "import random\n",
        "\n",
        "def random_restart_hill_climbing(graph, start, goal, restarts=100):\n",
        "    start_time = time.time()\n",
        "    space_complexity = sys.getsizeof(graph) + sys.getsizeof(start) + sys.getsizeof(goal)\n",
        "\n",
        "    all_nodes = graph.nodes()\n",
        "    best_path = get_random_path(graph, start, goal, all_nodes)\n",
        "\n",
        "    for _ in range(restarts):\n",
        "        new_path = get_random_path(graph, start, goal, all_nodes)\n",
        "\n",
        "        if len(new_path) < len(best_path) and new_path[-1] == goal:\n",
        "            best_path = new_path\n",
        "\n",
        "    space_complexity += sys.getsizeof(best_path)\n",
        "    total_elapsed_time = time.time() - start_time\n",
        "\n",
        "    return best_path, total_elapsed_time, space_complexity\n",
        "\n",
        "def get_random_path(graph, start, goal, all_nodes):\n",
        "    path = [start]\n",
        "    current = start\n",
        "\n",
        "    remaining_nodes = all_nodes.copy()\n",
        "    remaining_nodes.remove(start)\n",
        "\n",
        "    while remaining_nodes:\n",
        "        neighbor_fitness = {\n",
        "            node: len(path + [node]) + degree_heuristic_value(node, graph)\n",
        "            for node in remaining_nodes\n",
        "        }\n",
        "\n",
        "        sorted_neighbors = sorted(neighbor_fitness, key=neighbor_fitness.get)\n",
        "        next_node = sorted_neighbors[0]\n",
        "\n",
        "        path.append(next_node)\n",
        "        current = next_node\n",
        "        remaining_nodes.remove(next_node)\n",
        "\n",
        "    return path\n",
        "\n",
        "def degree_heuristic_value(node, graph):\n",
        "    return len(graph.neighbors(node))\n"
      ]
    },
    {
      "cell_type": "markdown",
      "metadata": {
        "id": "LEV2XHccF7sP"
      },
      "source": [
        "### DYNAMIC INPUT"
      ]
    },
    {
      "cell_type": "markdown",
      "metadata": {
        "id": "CylYRo_DF7sP"
      },
      "source": [
        "IMPORTANT : Dynamic Input must be got in this section. Display the possible states to choose from:\n",
        "This is applicable for all the relevent problems as mentioned in the question."
      ]
    },
    {
      "cell_type": "code",
      "execution_count": null,
      "metadata": {
        "id": "Q5t1Lc-wF7sP"
      },
      "outputs": [],
      "source": [
        "#Code Block : Function & call to get inputs (start/end state)\n",
        "start_node = set_initial_state('I')\n",
        "goal_node = 'S'  # Destination node (Sea)"
      ]
    },
    {
      "cell_type": "markdown",
      "metadata": {
        "id": "xsfOP81lF7sP"
      },
      "source": [
        "### Calling the search algorithms"
      ]
    },
    {
      "cell_type": "code",
      "execution_count": null,
      "metadata": {
        "id": "Og5zI9thF7sP",
        "colab": {
          "base_uri": "https://localhost:8080/"
        },
        "outputId": "76c3d5e6-d2f4-48c0-9c48-fc1a91cb1af3"
      },
      "outputs": [
        {
          "output_type": "stream",
          "name": "stdout",
          "text": [
            "A* Algorithm Path: ['I', 'A', 'C', 'E', 'S']\n",
            "Total Cost: 7\n"
          ]
        }
      ],
      "source": [
        "\n",
        "#Invoking A* Algorithm\n",
        "path, total_cost, elapsed_time, iterations, space_complexity = a_star(graph, start_node, goal_node)\n",
        "print(f\"A* Algorithm Path: {path}\")\n",
        "print(f\"Total Cost: {total_cost}\")"
      ]
    },
    {
      "cell_type": "code",
      "execution_count": null,
      "metadata": {
        "id": "u3MJeA6eF7sP",
        "colab": {
          "base_uri": "https://localhost:8080/"
        },
        "outputId": "578e9966-7f43-4d6a-92c3-65ead464bc3e"
      },
      "outputs": [
        {
          "output_type": "stream",
          "name": "stdout",
          "text": [
            "Random Restart Hill Climbing Algorithm Path: ['I', 'F', 'G', 'H', 'J', 'K', 'A', 'B', 'C', 'D', 'E']\n"
          ]
        }
      ],
      "source": [
        "# Invoking Random Restart Hill Climbing Algorithm\n",
        "path, elapsed_time, space_complexity = random_restart_hill_climbing(graph, start_node, goal_node)\n",
        "\n",
        "print(f\"Random Restart Hill Climbing Algorithm Path: {path}\")"
      ]
    },
    {
      "cell_type": "code",
      "source": [
        "#Code Block : Printing Time & Space complexity of A* algorithm\n",
        "def print_time_and_space_complexity(algorithm_name, path, elapsed_time, iterations, space_complexity):\n",
        "    print(f'Time complexity for {algorithm_name}: {elapsed_time:.6f} seconds')\n",
        "    print(f'space complexity for {algorithm_name}: {space_complexity} bytes')\n",
        "\n",
        "path, total_cost, elapsed_time, iterations, space_complexity = a_star(graph, start_node, goal_node)\n",
        "print_time_and_space_complexity(\"A*\", path, elapsed_time, iterations, space_complexity)"
      ],
      "metadata": {
        "colab": {
          "base_uri": "https://localhost:8080/"
        },
        "id": "01FMCK6Mp1gJ",
        "outputId": "11a5c124-127e-4528-b762-ff886130f54d"
      },
      "execution_count": null,
      "outputs": [
        {
          "output_type": "stream",
          "name": "stdout",
          "text": [
            "Time complexity for A*: 0.000153 seconds\n",
            "space complexity for A*: 1512 bytes\n"
          ]
        }
      ]
    },
    {
      "cell_type": "code",
      "source": [
        "#Code Block : Printing Time & Space complexity of random restart hill climbing algorithm\n",
        "def print_time_and_space_complexity(algorithm_name, path, elapsed_time, iterations, space_complexity):\n",
        "    print(f'Time complexity for {algorithm_name}: {elapsed_time:.6f} seconds')\n",
        "    print(f'Space complexity for {algorithm_name}: {space_complexity} bytes')\n",
        "\n",
        "path, elapsed_time, space_complexity = random_restart_hill_climbing(graph, start_node, goal_node)\n",
        "print_time_and_space_complexity(\"random_restart_hill_climbing\", path, elapsed_time, iterations, space_complexity)"
      ],
      "metadata": {
        "colab": {
          "base_uri": "https://localhost:8080/"
        },
        "id": "gyJuknwiqvYU",
        "outputId": "084bc933-0547-4eea-9820-b1a53f403b25"
      },
      "execution_count": null,
      "outputs": [
        {
          "output_type": "stream",
          "name": "stdout",
          "text": [
            "Time complexity for random_restart_hill_climbing: 0.011057 seconds\n",
            "Space complexity for random_restart_hill_climbing: 332 bytes\n"
          ]
        }
      ]
    },
    {
      "cell_type": "markdown",
      "metadata": {
        "id": "y2nXwAlsF7sQ"
      },
      "source": [
        "bold text### 6.comparitive analysis or findings in no more than 3 lines in below section"
      ]
    },
    {
      "cell_type": "markdown",
      "metadata": {
        "id": "si483-zoF7sQ"
      },
      "source": [
        "**Comparison** :\n",
        "1. Memory space usage of A* Algorithm is Significanty large compared to Random restart hill climbing Algorithm\n",
        "2.Time complexity of A* Algorithm is Significantly small compared to Random restart hill climbing Algorithm"
      ]
    },
    {
      "cell_type": "code",
      "source": [],
      "metadata": {
        "id": "F8aTMSqMqHoY"
      },
      "execution_count": null,
      "outputs": []
    }
  ],
  "metadata": {
    "colab": {
      "provenance": [],
      "include_colab_link": true
    },
    "kernelspec": {
      "display_name": "Python 3 (ipykernel)",
      "language": "python",
      "name": "python3"
    },
    "language_info": {
      "codemirror_mode": {
        "name": "ipython",
        "version": 3
      },
      "file_extension": ".py",
      "mimetype": "text/x-python",
      "name": "python",
      "nbconvert_exporter": "python",
      "pygments_lexer": "ipython3",
      "version": "3.9.13"
    }
  },
  "nbformat": 4,
  "nbformat_minor": 0
}